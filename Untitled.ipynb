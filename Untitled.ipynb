{
 "cells": [
  {
   "cell_type": "code",
   "execution_count": 5,
   "id": "a59a89ba-e02c-47a7-a282-4ebba8540a74",
   "metadata": {},
   "outputs": [
    {
     "name": "stdin",
     "output_type": "stream",
     "text": [
      "Digite o primeiro numero 2\n",
      "Digite o segundo numero 2\n"
     ]
    },
    {
     "name": "stdout",
     "output_type": "stream",
     "text": [
      "sua soma é: 4.0\n"
     ]
    }
   ],
   "source": [
    "n1 = float(input(\"Digite o primeiro numero\"))\n",
    "n2 = float(input(\"Digite o segundo numero\"))\n",
    "n3 = n1 + n2\n",
    "print ('sua soma é:', n3)"
   ]
  },
  {
   "cell_type": "code",
   "execution_count": 7,
   "id": "eb22b587-4696-40a1-b2cc-6d9f4c1cea21",
   "metadata": {},
   "outputs": [
    {
     "name": "stdin",
     "output_type": "stream",
     "text": [
      "digite a temperatura em graus celsios 35\n"
     ]
    },
    {
     "name": "stdout",
     "output_type": "stream",
     "text": [
      " Os graus em fahrenheit são: 95.0\n"
     ]
    }
   ],
   "source": [
    "C = float(input(\"digite a temperatura em graus celsios\"))\n",
    "Fahrenheit = C * 9/5 + 32\n",
    "print (\" Os graus em fahrenheit são:\", Fahrenheit)"
   ]
  },
  {
   "cell_type": "code",
   "execution_count": 13,
   "id": "14e10acf-0b31-417d-adcc-c155bb491ce0",
   "metadata": {},
   "outputs": [
    {
     "name": "stdin",
     "output_type": "stream",
     "text": [
      "Digite qualquer numero 0\n"
     ]
    },
    {
     "name": "stdout",
     "output_type": "stream",
     "text": [
      "Esse numero é zero\n"
     ]
    }
   ],
   "source": [
    "numero = float(input(\"Digite qualquer numero\"))\n",
    "if numero > 0:\n",
    "    print (\"Esse numero é positivo\")\n",
    "elif numero < 0:\n",
    "    print (\"Esse numero é negativo\")\n",
    "else:\n",
    "    print(\"Esse numero é zero\")"
   ]
  },
  {
   "cell_type": "code",
   "execution_count": null,
   "id": "e92ee22b-8290-40b7-891a-68432e6731e7",
   "metadata": {},
   "outputs": [],
   "source": [
    "n1 = float(input(\"Digite o primeiro numero\"))\n",
    "n2 = float(input(\"Digite o segundo numero\"))\n",
    "n3 = float(input(\"Digite o terceiro numero\"))\n"
   ]
  },
  {
   "cell_type": "code",
   "execution_count": 20,
   "id": "18275d3e-0b33-4184-b11f-6af8451ce6ff",
   "metadata": {},
   "outputs": [
    {
     "name": "stdin",
     "output_type": "stream",
     "text": [
      " Digite um numero de 1 a 9 70\n"
     ]
    },
    {
     "name": "stdout",
     "output_type": "stream",
     "text": [
      "Tabuada do 70:\n",
      "70 x 1 = 70\n",
      "70 x 2 = 140\n",
      "70 x 3 = 210\n",
      "70 x 4 = 280\n",
      "70 x 5 = 350\n",
      "70 x 6 = 420\n",
      "70 x 7 = 490\n",
      "70 x 8 = 560\n",
      "70 x 9 = 630\n",
      "70 x 10 = 700\n",
      "digite um numero valido\n",
      "Digite em numero valido\n"
     ]
    }
   ],
   "source": [
    "n1 = int(input(\" Digite um numero de 1 a 9\"))\n",
    "print(f\"Tabuada do {n1}:\")\n",
    "for i in range(1, 11):  # De 1 a 10\n",
    "    resultado = n1 * i\n",
    "    print(f\"{n1} x {i} = {resultado}\")\n",
    "n1 != (123456789)\n",
    "print(\"Digite em numero valido\")"
   ]
  },
  {
   "cell_type": "code",
   "execution_count": 37,
   "id": "b69a8f8d-5c79-4d82-a691-eca43f3e70dc",
   "metadata": {},
   "outputs": [
    {
     "ename": "SyntaxError",
     "evalue": "invalid syntax (80029002.py, line 12)",
     "output_type": "error",
     "traceback": [
      "\u001b[1;36m  Cell \u001b[1;32mIn[37], line 12\u001b[1;36m\u001b[0m\n\u001b[1;33m    print(f\"{i} x {numero} \")sete\u001b[0m\n\u001b[1;37m                             ^\u001b[0m\n\u001b[1;31mSyntaxError\u001b[0m\u001b[1;31m:\u001b[0m invalid syntax\n"
     ]
    }
   ],
   "source": [
    "while True:\n",
    "    digitacao = input(\"Digite um valor de 0 a 9: \")\n",
    "    if digitacao.isnumeric():\n",
    "        numero = float(digitação)\n",
    "        if numero >= 1 and numero <= 9:\n",
    "            break\n",
    "        else:\n",
    "            print(\"Digite um valor valido\")\n",
    "    else:\n",
    "        print(\"O que foi digitado nao é um numero\")\n",
    "for i in range(1, 11):\n",
    "    print(f\"{i} x {numero} \")sete"
   ]
  },
  {
   "cell_type": "code",
   "execution_count": 31,
   "id": "ba0c1be6-19c4-48bc-9f59-05e46618f835",
   "metadata": {},
   "outputs": [
    {
     "name": "stdin",
     "output_type": "stream",
     "text": [
      "Digite um valor de 1 a 9:  sete\n"
     ]
    },
    {
     "name": "stdout",
     "output_type": "stream",
     "text": [
      "O que foi digitado não é um número\n"
     ]
    },
    {
     "name": "stdin",
     "output_type": "stream",
     "text": [
      "Digite um valor de 1 a 9:  70\n"
     ]
    },
    {
     "name": "stdout",
     "output_type": "stream",
     "text": [
      "Digite um valor válido de 1 a 9\n"
     ]
    },
    {
     "name": "stdin",
     "output_type": "stream",
     "text": [
      "Digite um valor de 1 a 9:  7\n"
     ]
    },
    {
     "name": "stdout",
     "output_type": "stream",
     "text": [
      "Tabuada do 7.0:\n",
      "1 x 7.0 = 7.0\n",
      "2 x 7.0 = 14.0\n",
      "3 x 7.0 = 21.0\n",
      "4 x 7.0 = 28.0\n",
      "5 x 7.0 = 35.0\n",
      "6 x 7.0 = 42.0\n",
      "7 x 7.0 = 49.0\n",
      "8 x 7.0 = 56.0\n",
      "9 x 7.0 = 63.0\n",
      "10 x 7.0 = 70.0\n"
     ]
    }
   ],
   "source": [
    "while True:\n",
    "    digitação = input(\"Digite um valor de 1 a 9: \")\n",
    "    if digitação.isnumeric():  # Verifica se a entrada é um número\n",
    "        numero = float(digitação)\n",
    "        if 1 <= numero <= 9:  # Verifica se o número está entre 1 e 9\n",
    "            break  # Sai do loop se o número é válido\n",
    "        else:\n",
    "            print(\"Digite um valor válido de 1 a 9\")\n",
    "    else:\n",
    "        print(\"O que foi digitado não é um número\")\n",
    "\n",
    "# Exibindo a tabuada\n",
    "print(f\"Tabuada do {numero}:\")\n",
    "for i in range(1, 11):\n",
    "    print(f\"{i} x {numero} = {i * numero}\")"
   ]
  },
  {
   "cell_type": "code",
   "execution_count": 38,
   "id": "b658aed3-f690-418d-a4c3-2c951ddac202",
   "metadata": {
    "scrolled": true
   },
   "outputs": [
    {
     "ename": "SyntaxError",
     "evalue": "invalid syntax (2955647943.py, line 1)",
     "output_type": "error",
     "traceback": [
      "\u001b[1;36m  Cell \u001b[1;32mIn[38], line 1\u001b[1;36m\u001b[0m\n\u001b[1;33m    Você é um cientista de dados e precisa analisar as notas de um conjunto de estudantes em uma disciplina. Você deverá escrever um programa em Python que solicite ao usuário o número de estudantes e, em seguida, as notas desses estudantes. O programa deve calcular e exibir:\u001b[0m\n\u001b[1;37m         ^\u001b[0m\n\u001b[1;31mSyntaxError\u001b[0m\u001b[1;31m:\u001b[0m invalid syntax\n"
     ]
    }
   ],
   "source": [
    "Você é um cientista de dados e precisa analisar as notas de um conjunto de estudantes em uma disciplina. Você deverá escrever um programa em Python que solicite ao usuário o número de estudantes e, em seguida, as notas desses estudantes. O programa deve calcular e exibir:\n",
    "\n",
    "- A média das notas.\n",
    "- A maior e a menor nota.\n",
    "- O número de estudantes aprovados (nota maior ou igual a 6) e reprovados (nota menor que 6).\n",
    "\n",
    "Regras:\n",
    "  \n",
    "- Utilize variáveis simples para armazenar as informações.\n",
    "- Utilize estruturas de repetição para coletar as notas dos estudantes.\n",
    "- Utilize estruturas condicionais para determinar o status de aprovação dos estudantes."
   ]
  },
  {
   "cell_type": "code",
   "execution_count": 42,
   "id": "0b0866da-0049-457b-ab8f-001969a1a7a0",
   "metadata": {},
   "outputs": [
    {
     "name": "stdin",
     "output_type": "stream",
     "text": [
      "Digite um numero inteiro positivo:  7\n"
     ]
    },
    {
     "name": "stdout",
     "output_type": "stream",
     "text": [
      "O fatorial de 7 é igual a 5040\n"
     ]
    }
   ],
   "source": [
    "while True:\n",
    "    digitacao = input(\"Digite um numero inteiro positivo: \")\n",
    "    if digitacao.isnumeric():\n",
    "        numero = int(digitação)\n",
    "        if numero > 0:\n",
    "            break\n",
    "        else:\n",
    "            print(\"Digite um valor entre 1 a 9\")\n",
    "    else:\n",
    "        print(\"O que foi digitado nao é um numero\")\n",
    "fatorial = 1\n",
    "for i in range(1, numero+1):\n",
    "    fatorial *= i\n",
    "\n",
    "print(f\"O fatorial de {numero} é igual a {fatorial}\")"
   ]
  },
  {
   "cell_type": "code",
   "execution_count": null,
   "id": "9ac42195-05ad-45ce-9f65-5a549bd44879",
   "metadata": {},
   "outputs": [],
   "source": []
  }
 ],
 "metadata": {
  "kernelspec": {
   "display_name": "Python 3 (ipykernel)",
   "language": "python",
   "name": "python3"
  },
  "language_info": {
   "codemirror_mode": {
    "name": "ipython",
    "version": 3
   },
   "file_extension": ".py",
   "mimetype": "text/x-python",
   "name": "python",
   "nbconvert_exporter": "python",
   "pygments_lexer": "ipython3",
   "version": "3.12.4"
  }
 },
 "nbformat": 4,
 "nbformat_minor": 5
}
