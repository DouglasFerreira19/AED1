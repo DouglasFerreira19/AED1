{
 "cells": [
  {
   "cell_type": "code",
   "execution_count": 1,
   "id": "0aa9e415-35b3-4015-992a-4b722cbdccfd",
   "metadata": {},
   "outputs": [
    {
     "name": "stdout",
     "output_type": "stream",
     "text": [
      "olá mundo\n"
     ]
    }
   ],
   "source": [
    "print(\"olá mundo\")"
   ]
  },
  {
   "cell_type": "code",
   "execution_count": 2,
   "id": "39b38cd5-fe63-476e-b78e-8814ee4c8a3d",
   "metadata": {},
   "outputs": [
    {
     "data": {
      "text/plain": [
       "10"
      ]
     },
     "execution_count": 2,
     "metadata": {},
     "output_type": "execute_result"
    }
   ],
   "source": [
    "5+5"
   ]
  },
  {
   "cell_type": "code",
   "execution_count": 3,
   "id": "59572b09-2ceb-420b-a442-16683b9ce648",
   "metadata": {},
   "outputs": [],
   "source": [
    "nome = 'Douglas'"
   ]
  },
  {
   "cell_type": "code",
   "execution_count": 4,
   "id": "69f63b03-832c-4226-a94b-18b25a25e492",
   "metadata": {},
   "outputs": [
    {
     "data": {
      "text/plain": [
       "'Douglas'"
      ]
     },
     "execution_count": 4,
     "metadata": {},
     "output_type": "execute_result"
    }
   ],
   "source": [
    "nome"
   ]
  },
  {
   "cell_type": "code",
   "execution_count": 5,
   "id": "c7662a90-56ff-432c-ba6b-99fedc33772a",
   "metadata": {},
   "outputs": [
    {
     "name": "stdout",
     "output_type": "stream",
     "text": [
      "Douglas\n"
     ]
    }
   ],
   "source": [
    "print(nome)"
   ]
  },
  {
   "cell_type": "code",
   "execution_count": 30,
   "id": "291f84cc-58d1-4008-9929-933d5d16d0ef",
   "metadata": {},
   "outputs": [],
   "source": [
    "soma = x + y\n",
    "divisao = x/y"
   ]
  },
  {
   "cell_type": "code",
   "execution_count": null,
   "id": "43e0fae6-8ed9-4c3d-bd46-26902b944eef",
   "metadata": {},
   "outputs": [],
   "source": []
  },
  {
   "cell_type": "raw",
   "id": "43325a8a-21fe-4a32-b790-68f23163671b",
   "metadata": {},
   "source": [
    "print(soma)"
   ]
  },
  {
   "cell_type": "code",
   "execution_count": 32,
   "id": "9c385dc3-5462-4d07-90e1-fd523f44bc83",
   "metadata": {},
   "outputs": [
    {
     "data": {
      "text/plain": [
       "int"
      ]
     },
     "execution_count": 32,
     "metadata": {},
     "output_type": "execute_result"
    }
   ],
   "source": [
    "type(soma)"
   ]
  },
  {
   "cell_type": "code",
   "execution_count": 38,
   "id": "9c77ec17-67e7-4188-9256-22a935e84a0b",
   "metadata": {},
   "outputs": [
    {
     "data": {
      "text/plain": [
       "345"
      ]
     },
     "execution_count": 38,
     "metadata": {},
     "output_type": "execute_result"
    }
   ],
   "source": [
    "x"
   ]
  },
  {
   "cell_type": "code",
   "execution_count": 40,
   "id": "b989f965-a75d-4913-abd1-9718fbef9d91",
   "metadata": {},
   "outputs": [
    {
     "name": "stdout",
     "output_type": "stream",
     "text": [
      "\f",
      "\n"
     ]
    }
   ],
   "source": [
    "clear"
   ]
  },
  {
   "cell_type": "code",
   "execution_count": 41,
   "id": "06be1f36-7877-4d3e-a71f-ecbbb7e426ca",
   "metadata": {},
   "outputs": [
    {
     "data": {
      "text/plain": [
       "345"
      ]
     },
     "execution_count": 41,
     "metadata": {},
     "output_type": "execute_result"
    }
   ],
   "source": [
    "x"
   ]
  },
  {
   "cell_type": "code",
   "execution_count": null,
   "id": "12074bff-95e3-4458-a6d6-d7e1b820f4b6",
   "metadata": {},
   "outputs": [],
   "source": [
    "y"
   ]
  },
  {
   "cell_type": "code",
   "execution_count": 4,
   "id": "0115076c-f80b-47c8-9a99-2696d79513c0",
   "metadata": {},
   "outputs": [],
   "source": [
    "y = 4.5"
   ]
  },
  {
   "cell_type": "code",
   "execution_count": 5,
   "id": "e7f7900d-ba6d-424b-a176-2dd55299a528",
   "metadata": {},
   "outputs": [
    {
     "data": {
      "text/plain": [
       "float"
      ]
     },
     "execution_count": 5,
     "metadata": {},
     "output_type": "execute_result"
    }
   ],
   "source": [
    "type(y)"
   ]
  },
  {
   "cell_type": "code",
   "execution_count": 6,
   "id": "a40ae2c6-7aee-4bbf-9b7c-6c4e2658f81c",
   "metadata": {},
   "outputs": [
    {
     "ename": "NameError",
     "evalue": "name 'true' is not defined",
     "output_type": "error",
     "traceback": [
      "\u001b[1;31m---------------------------------------------------------------------------\u001b[0m",
      "\u001b[1;31mNameError\u001b[0m                                 Traceback (most recent call last)",
      "Cell \u001b[1;32mIn[6], line 1\u001b[0m\n\u001b[1;32m----> 1\u001b[0m x \u001b[38;5;241m=\u001b[39m true\n",
      "\u001b[1;31mNameError\u001b[0m: name 'true' is not defined"
     ]
    }
   ],
   "source": [
    "x = true"
   ]
  },
  {
   "cell_type": "code",
   "execution_count": 1,
   "id": "9f76f312-907e-4367-923e-c0c9ff461d0e",
   "metadata": {},
   "outputs": [],
   "source": [
    "nome = 'Douglas'"
   ]
  },
  {
   "cell_type": "code",
   "execution_count": 2,
   "id": "c34eff46-7c5b-43b7-a90e-65cf051c9d50",
   "metadata": {},
   "outputs": [
    {
     "data": {
      "text/plain": [
       "str"
      ]
     },
     "execution_count": 2,
     "metadata": {},
     "output_type": "execute_result"
    }
   ],
   "source": [
    "type(nome)"
   ]
  },
  {
   "cell_type": "code",
   "execution_count": 3,
   "id": "ae055cfb-7592-4fd5-a5ef-09fd624fdc6c",
   "metadata": {},
   "outputs": [],
   "source": [
    "prenome = 'Ferreira'"
   ]
  },
  {
   "cell_type": "code",
   "execution_count": 7,
   "id": "e91453f1-ef16-414d-b400-37ef29569019",
   "metadata": {},
   "outputs": [
    {
     "ename": "SyntaxError",
     "evalue": "invalid syntax (3216159811.py, line 1)",
     "output_type": "error",
     "traceback": [
      "\u001b[1;36m  Cell \u001b[1;32mIn[7], line 1\u001b[1;36m\u001b[0m\n\u001b[1;33m    nome_completo = nome + '' prenome\u001b[0m\n\u001b[1;37m                              ^\u001b[0m\n\u001b[1;31mSyntaxError\u001b[0m\u001b[1;31m:\u001b[0m invalid syntax\n"
     ]
    }
   ],
   "source": [
    "nome_completo = nome + '' prenome"
   ]
  },
  {
   "cell_type": "code",
   "execution_count": 6,
   "id": "07803ea8-3d45-4bfc-8454-86186996b803",
   "metadata": {},
   "outputs": [
    {
     "data": {
      "text/plain": [
       "'FerreiraDouglas'"
      ]
     },
     "execution_count": 6,
     "metadata": {},
     "output_type": "execute_result"
    }
   ],
   "source": [
    "nome_completo"
   ]
  },
  {
   "cell_type": "code",
   "execution_count": 8,
   "id": "88c16ef9-6a15-4022-b318-7f682a87b2ab",
   "metadata": {},
   "outputs": [
    {
     "data": {
      "text/plain": [
       "'DouglasDouglasDouglasDouglas'"
      ]
     },
     "execution_count": 8,
     "metadata": {},
     "output_type": "execute_result"
    }
   ],
   "source": [
    "nome * 4"
   ]
  },
  {
   "cell_type": "markdown",
   "id": "fd3fdc53-c257-4554-a597-51900020c173",
   "metadata": {},
   "source": [
    "nome [0]"
   ]
  },
  {
   "cell_type": "code",
   "execution_count": 9,
   "id": "90ca628e-9036-44c6-9d50-562e92220bb0",
   "metadata": {},
   "outputs": [
    {
     "data": {
      "text/plain": [
       "'A'"
      ]
     },
     "execution_count": 9,
     "metadata": {},
     "output_type": "execute_result"
    }
   ],
   "source": [
    "chr(65)"
   ]
  },
  {
   "cell_type": "code",
   "execution_count": 10,
   "id": "2f96d53a-d6da-4625-af0b-0745535e626b",
   "metadata": {},
   "outputs": [
    {
     "data": {
      "text/plain": [
       "'a'"
      ]
     },
     "execution_count": 10,
     "metadata": {},
     "output_type": "execute_result"
    }
   ],
   "source": [
    "chr(97)"
   ]
  },
  {
   "cell_type": "code",
   "execution_count": 11,
   "id": "5ba40780-3f3f-470b-9709-6ca3350de8c6",
   "metadata": {},
   "outputs": [
    {
     "data": {
      "text/plain": [
       "97"
      ]
     },
     "execution_count": 11,
     "metadata": {},
     "output_type": "execute_result"
    }
   ],
   "source": [
    "ord('a')"
   ]
  }
 ],
 "metadata": {
  "kernelspec": {
   "display_name": "Python 3 (ipykernel)",
   "language": "python",
   "name": "python3"
  },
  "language_info": {
   "codemirror_mode": {
    "name": "ipython",
    "version": 3
   },
   "file_extension": ".py",
   "mimetype": "text/x-python",
   "name": "python",
   "nbconvert_exporter": "python",
   "pygments_lexer": "ipython3",
   "version": "3.12.4"
  }
 },
 "nbformat": 4,
 "nbformat_minor": 5
}
